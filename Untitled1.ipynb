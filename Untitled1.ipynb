{
 "cells": [
  {
   "cell_type": "code",
   "execution_count": 97,
   "metadata": {},
   "outputs": [],
   "source": [
    "import pandas as pd\n",
    "import pyarabic.araby as arabic\n",
    "\n",
    "import re\n"
   ]
  },
  {
   "cell_type": "code",
   "execution_count": 86,
   "metadata": {},
   "outputs": [],
   "source": [
    "df = pd.read_csv(\"words.csv\")\n"
   ]
  },
  {
   "cell_type": "code",
   "execution_count": 87,
   "metadata": {},
   "outputs": [
    {
     "name": "stdout",
     "output_type": "stream",
     "text": [
      "Index(['answer', 'input', 'result'], dtype='object')\n"
     ]
    }
   ],
   "source": [
    "\n",
    "print(df.columns)"
   ]
  },
  {
   "cell_type": "markdown",
   "metadata": {},
   "source": [
    "<br>\n",
    "<h2>\n",
    "    \n",
    "First Compare of similarity\n",
    "</h2>\n",
    "    <br>"
   ]
  },
  {
   "cell_type": "code",
   "execution_count": 88,
   "metadata": {},
   "outputs": [],
   "source": [
    "df['compare1'] = np.where(df['answer'] == df['input'], 1, 0)"
   ]
  },
  {
   "cell_type": "code",
   "execution_count": 89,
   "metadata": {},
   "outputs": [
    {
     "data": {
      "text/html": [
       "<div>\n",
       "<style scoped>\n",
       "    .dataframe tbody tr th:only-of-type {\n",
       "        vertical-align: middle;\n",
       "    }\n",
       "\n",
       "    .dataframe tbody tr th {\n",
       "        vertical-align: top;\n",
       "    }\n",
       "\n",
       "    .dataframe thead th {\n",
       "        text-align: right;\n",
       "    }\n",
       "</style>\n",
       "<table border=\"1\" class=\"dataframe\">\n",
       "  <thead>\n",
       "    <tr style=\"text-align: right;\">\n",
       "      <th></th>\n",
       "      <th>answer</th>\n",
       "      <th>input</th>\n",
       "      <th>result</th>\n",
       "      <th>compare1</th>\n",
       "    </tr>\n",
       "  </thead>\n",
       "  <tbody>\n",
       "    <tr>\n",
       "      <th>0</th>\n",
       "      <td>الملك الصالح</td>\n",
       "      <td>الملك الصالح</td>\n",
       "      <td>1</td>\n",
       "      <td>1</td>\n",
       "    </tr>\n",
       "    <tr>\n",
       "      <th>1</th>\n",
       "      <td>المكل الصالح</td>\n",
       "      <td>محمد صالح</td>\n",
       "      <td>0</td>\n",
       "      <td>0</td>\n",
       "    </tr>\n",
       "    <tr>\n",
       "      <th>2</th>\n",
       "      <td>علوم البيانات</td>\n",
       "      <td>علوم البيانات</td>\n",
       "      <td>1</td>\n",
       "      <td>1</td>\n",
       "    </tr>\n",
       "    <tr>\n",
       "      <th>3</th>\n",
       "      <td>علوم الطبيعة</td>\n",
       "      <td>علوم الطبيعة</td>\n",
       "      <td>1</td>\n",
       "      <td>1</td>\n",
       "    </tr>\n",
       "    <tr>\n",
       "      <th>4</th>\n",
       "      <td>الفيزياء</td>\n",
       "      <td>الفيزياء</td>\n",
       "      <td>1</td>\n",
       "      <td>1</td>\n",
       "    </tr>\n",
       "  </tbody>\n",
       "</table>\n",
       "</div>"
      ],
      "text/plain": [
       "          answer          input  result  compare1\n",
       "0   الملك الصالح   الملك الصالح       1         1\n",
       "1   المكل الصالح      محمد صالح       0         0\n",
       "2  علوم البيانات  علوم البيانات       1         1\n",
       "3   علوم الطبيعة   علوم الطبيعة       1         1\n",
       "4       الفيزياء       الفيزياء       1         1"
      ]
     },
     "execution_count": 89,
     "metadata": {},
     "output_type": "execute_result"
    }
   ],
   "source": [
    "df.head()"
   ]
  },
  {
   "cell_type": "markdown",
   "metadata": {},
   "source": [
    "\n",
    "<br>\n",
    "\n",
    "<h3>\n",
    "get the accuracy between Auto compare -compare1- and manual comared -result- </h3>"
   ]
  },
  {
   "cell_type": "code",
   "execution_count": 90,
   "metadata": {},
   "outputs": [
    {
     "data": {
      "text/plain": [
       "0.5"
      ]
     },
     "execution_count": 90,
     "metadata": {},
     "output_type": "execute_result"
    }
   ],
   "source": [
    "accuracy = len(df[df['result'] == df['compare1']]) / len(df)\n",
    "accuracy"
   ]
  },
  {
   "cell_type": "code",
   "execution_count": 91,
   "metadata": {},
   "outputs": [
    {
     "data": {
      "text/html": [
       "<div>\n",
       "<style scoped>\n",
       "    .dataframe tbody tr th:only-of-type {\n",
       "        vertical-align: middle;\n",
       "    }\n",
       "\n",
       "    .dataframe tbody tr th {\n",
       "        vertical-align: top;\n",
       "    }\n",
       "\n",
       "    .dataframe thead th {\n",
       "        text-align: right;\n",
       "    }\n",
       "</style>\n",
       "<table border=\"1\" class=\"dataframe\">\n",
       "  <thead>\n",
       "    <tr style=\"text-align: right;\">\n",
       "      <th></th>\n",
       "      <th>answer</th>\n",
       "      <th>input</th>\n",
       "      <th>result</th>\n",
       "      <th>compare1</th>\n",
       "    </tr>\n",
       "  </thead>\n",
       "  <tbody>\n",
       "    <tr>\n",
       "      <th>6</th>\n",
       "      <td>الكيمياء الفيزيائية</td>\n",
       "      <td>الكيميا الفيزيائية</td>\n",
       "      <td>1</td>\n",
       "      <td>0</td>\n",
       "    </tr>\n",
       "    <tr>\n",
       "      <th>7</th>\n",
       "      <td>الكيمياء الحيوية</td>\n",
       "      <td>الكيميا الحيوية</td>\n",
       "      <td>1</td>\n",
       "      <td>0</td>\n",
       "    </tr>\n",
       "    <tr>\n",
       "      <th>12</th>\n",
       "      <td>أم كلثوم</td>\n",
       "      <td>أمكلثوم</td>\n",
       "      <td>1</td>\n",
       "      <td>0</td>\n",
       "    </tr>\n",
       "    <tr>\n",
       "      <th>13</th>\n",
       "      <td>أم كلثوم</td>\n",
       "      <td>ام كلثوم</td>\n",
       "      <td>1</td>\n",
       "      <td>0</td>\n",
       "    </tr>\n",
       "    <tr>\n",
       "      <th>14</th>\n",
       "      <td>الحياة اللندنية</td>\n",
       "      <td>الحياه اللندنية</td>\n",
       "      <td>1</td>\n",
       "      <td>0</td>\n",
       "    </tr>\n",
       "    <tr>\n",
       "      <th>15</th>\n",
       "      <td>لبنى عبدالعزيز</td>\n",
       "      <td>لبني عبدالعزيز</td>\n",
       "      <td>1</td>\n",
       "      <td>0</td>\n",
       "    </tr>\n",
       "    <tr>\n",
       "      <th>16</th>\n",
       "      <td>منيرة الضو</td>\n",
       "      <td>منيره الضو</td>\n",
       "      <td>1</td>\n",
       "      <td>0</td>\n",
       "    </tr>\n",
       "    <tr>\n",
       "      <th>17</th>\n",
       "      <td>منيرة الضو</td>\n",
       "      <td>منيرةضو</td>\n",
       "      <td>1</td>\n",
       "      <td>0</td>\n",
       "    </tr>\n",
       "    <tr>\n",
       "      <th>18</th>\n",
       "      <td>الكيمياء</td>\n",
       "      <td>كيمياء</td>\n",
       "      <td>1</td>\n",
       "      <td>0</td>\n",
       "    </tr>\n",
       "    <tr>\n",
       "      <th>20</th>\n",
       "      <td>الامام ابوحنيفة</td>\n",
       "      <td>الإمام أبوحنيفة</td>\n",
       "      <td>1</td>\n",
       "      <td>0</td>\n",
       "    </tr>\n",
       "    <tr>\n",
       "      <th>21</th>\n",
       "      <td>الإمام أبوحنيفة</td>\n",
       "      <td>الإمام أبي حنيفة</td>\n",
       "      <td>1</td>\n",
       "      <td>0</td>\n",
       "    </tr>\n",
       "    <tr>\n",
       "      <th>26</th>\n",
       "      <td>اللغة العــــربية</td>\n",
       "      <td>اللغة العربية</td>\n",
       "      <td>1</td>\n",
       "      <td>0</td>\n",
       "    </tr>\n",
       "    <tr>\n",
       "      <th>27</th>\n",
       "      <td>اللُغةُ العربية</td>\n",
       "      <td>اللغة العربية</td>\n",
       "      <td>1</td>\n",
       "      <td>0</td>\n",
       "    </tr>\n",
       "    <tr>\n",
       "      <th>28</th>\n",
       "      <td>اللغَةَُ العربية</td>\n",
       "      <td>اللغة العربية</td>\n",
       "      <td>1</td>\n",
       "      <td>0</td>\n",
       "    </tr>\n",
       "    <tr>\n",
       "      <th>29</th>\n",
       "      <td>اللغةًٌُ العربيــــــــــــة</td>\n",
       "      <td>اللغة العربية</td>\n",
       "      <td>1</td>\n",
       "      <td>0</td>\n",
       "    </tr>\n",
       "  </tbody>\n",
       "</table>\n",
       "</div>"
      ],
      "text/plain": [
       "                          answer               input  result  compare1\n",
       "6            الكيمياء الفيزيائية  الكيميا الفيزيائية       1         0\n",
       "7               الكيمياء الحيوية     الكيميا الحيوية       1         0\n",
       "12                      أم كلثوم             أمكلثوم       1         0\n",
       "13                      أم كلثوم            ام كلثوم       1         0\n",
       "14               الحياة اللندنية     الحياه اللندنية       1         0\n",
       "15                لبنى عبدالعزيز      لبني عبدالعزيز       1         0\n",
       "16                    منيرة الضو          منيره الضو       1         0\n",
       "17                    منيرة الضو             منيرةضو       1         0\n",
       "18                      الكيمياء              كيمياء       1         0\n",
       "20               الامام ابوحنيفة     الإمام أبوحنيفة       1         0\n",
       "21               الإمام أبوحنيفة    الإمام أبي حنيفة       1         0\n",
       "26             اللغة العــــربية       اللغة العربية       1         0\n",
       "27              اللُغةُ العربية        اللغة العربية       1         0\n",
       "28             اللغَةَُ العربية        اللغة العربية       1         0\n",
       "29  اللغةًٌُ العربيــــــــــــة       اللغة العربية       1         0"
      ]
     },
     "execution_count": 91,
     "metadata": {},
     "output_type": "execute_result"
    }
   ],
   "source": [
    "df[df['result'] != df['compare1']]"
   ]
  },
  {
   "cell_type": "markdown",
   "metadata": {},
   "source": [
    "<br>\n",
    "<h2>enhancing accuaracy.</h2>\n",
    "<br>\n"
   ]
  },
  {
   "cell_type": "markdown",
   "metadata": {},
   "source": [
    "<h3> problem specification </h3>"
   ]
  },
  {
   "cell_type": "markdown",
   "metadata": {},
   "source": [
    "<p> \n",
    " to make lite weight word comparison algorithm easy with english language even with word mistakes. simple codes can classify \"English Language\" as \"Englesh Languge\" whatever it became more harder in arabic, with the Huge number of words, different kind of writing styles, also the hard grammatic issues in arabic.\n",
    "    not all people write in the write grammatic way, also not all arabic people write with the same styles.\n",
    "    modern keyboads make it harder to write words coreectly because of \"Hidden charachters\".\n",
    "    for example in hand writing people write \"أحمد\" while in E-Writing most common way is to write \"احمد\"\n",
    "    which starting with \"Alef without Hamza\" while the write way is to write \"Alef with Hamza\"\n",
    "    Egyptian national IDs system use the last way \"letters without Hamza\".\n",
    "    looking to most common Keyboards we found that hidden letters which is require two steps to write it.\n",
    "    pressing. The grammer rules in arabic which not all people follow make it harder so some words may have \n",
    "    more than one style \"أبو حنيفة\" is \"أبي حنيفة\" letter \"و\" is converted to \"ي\" for same word.\n",
    "    also analyzing social media posts and tweets it found dependency on auto correction so most of peopl use \n",
    "    \"letters without Hamza\" as they use \"ه\" at end of the words insted of \"ة\" whatever the morphology of word \n",
    "    in arabic is difference than Laten languages, so \"word\" in englis\" is equal to \"pattern in arabic\", \n",
    "    because the pattern in arabic have more than one section for example \"it will come for them\" all sentence\n",
    "    is equale to one pattern \"فسيأتيهم\". \n",
    "    so to make a correct analysis first we have to make a simplified arabic patterens.\n",
    "    in this case comparing we simplified the writing styles of both answer and input. \n",
    "    Same level of similaity lead to higher accuracy comparison\n",
    "    </p"
   ]
  },
  {
   "cell_type": "code",
   "execution_count": 79,
   "metadata": {},
   "outputs": [
    {
     "name": "stdout",
     "output_type": "stream",
     "text": [
      "رحماللهامامابحنيفهنعماناهلعراقاهلعفهمحبهياالهعالمين\n"
     ]
    }
   ],
   "source": [
    "p = \"رحم الله الإمام أبو حنيفة النعمان أهل العراق أهل العفة والمحبة.يا إله العالمين\"\n",
    "p2 = 'axsdad sds a ## xc'\n",
    "#removing Tashkeel and other similar.\n",
    "p= arabic.strip_diacritics(p)\n",
    "\n",
    "#removing tatweel \"اللـــــغة العربية\" to be easly same \"اللغة العربية\"\n",
    "p= arabic.strip_tatweel(p)\n",
    "\n",
    "#Normalize Hamza \"الأهلي\" to be same as \"الاهلي\"\n",
    "p= arabic.normalize_hamza(p, method= \"tasheel\")\n",
    "\n",
    "#using built in function to make replacments\n",
    "#replacing \"ة\" by \" ه\" both are not same letteres but have huge similarity\n",
    "p= p.replace('\\u0629','\\u0647')\n",
    "\n",
    "#replace \"ى\" with \"ي\"\n",
    "p= p.replace('\\u0649', '\\u064A')\n",
    "\n",
    "p= p.replace('\\n',\"\")\n",
    "\n",
    "\n",
    "\"\"\"removin \"و\" first of word because it may be like and, whatever if it's from main word will not \n",
    "affect the similarty too much\n",
    "\"\"\"\n",
    "p= re.sub(r'\\b\\u0648','',p)\n",
    "\n",
    "\"\"\"\n",
    "make a replacment for \"ال\" in start of the word because it doesnt effect at all \"الحلي\" is same as \"حلي\"\n",
    " using RE \"ا\" Alef unicode equal \"0627\" \"ل\" Laam unicode equale \"FEDF\"\n",
    "but not removing \"ال\" in word \"الله\"\n",
    "also if \"ال \" followed by one letterr will not remove it\"\"\"\n",
    "\n",
    "p= re.sub(r'\\b\\u0627\\u0644(?![\\u0644\\u0647]|[\\W])',' ',p)\n",
    "\n",
    "#Hamza is heavy letter in arabic so it easily will be ignored at end of words.\n",
    "p= re.sub(r'\\u0621\\b','',p)\n",
    "\n",
    "#remove symbols and special chars\n",
    "p=re.sub(r'[^\\w]', ' ', p)\n",
    "\n",
    "\"\"\"\n",
    "            \"أبو حنيفة == أبي حنيفة == أبا حنيفة== أبوحنيفة == اباحنيفة\"\n",
    "            concept will be used in this cases that \"Alef\" and \"Waw\" isolated letters\n",
    "            so the goal is to drive similarity in last step. if the previos not equal it will drived to\n",
    "            isolate the pattern \"ابا، أبو، أبي\"  \n",
    "            \"\"\"\n",
    "\n",
    "p = re.sub(r'\\b اب(ي |و|و |ا |ا)',' اب ',p)\n",
    "\n",
    "p= re.sub(r'\\b\\u0627u\\0628(\\u0627|\\u0627\\u0020|\\u0648|\\u0648\\u0020|\\u0649)','\\u0020\\u0627u\\0628\\u0020',p)\n",
    "\n",
    "p= p.replace(' ', '')\n",
    "print(p)\n"
   ]
  },
  {
   "cell_type": "code",
   "execution_count": 92,
   "metadata": {},
   "outputs": [
    {
     "name": "stdout",
     "output_type": "stream",
     "text": [
      "ملكصالح\n",
      "مكلصالح\n",
      "علومبيانات\n",
      "علومطبيعه\n",
      "فيزيا\n",
      "كيميا\n",
      "كيميافيزياييه\n",
      "كيمياحيويه\n",
      "لانهاييه\n",
      "لانهاييه\n",
      "نهاييه\n",
      "نهاييه\n",
      "امكلثوم\n",
      "امكلثوم\n",
      "حياهاللندنيه\n",
      "لبنيعبدالعزيز\n",
      "منيرهضو\n",
      "منيرهضو\n",
      "كيميا\n",
      "اماممالك\n",
      "امامابحنيفه\n",
      "امامابحنيفه\n",
      "عمروعبدالمعز\n",
      "عمروبنعاص\n",
      "حياهاللندنيه\n",
      "كريمعبدالعزيز\n",
      "اللغهعربيه\n",
      "اللغهعربيه\n",
      "اللغهعربيه\n",
      "اللغهعربيه\n"
     ]
    },
    {
     "name": "stderr",
     "output_type": "stream",
     "text": [
      "/home/amr/.local/lib/python3.8/site-packages/pandas/core/indexing.py:1636: SettingWithCopyWarning: \n",
      "A value is trying to be set on a copy of a slice from a DataFrame\n",
      "\n",
      "See the caveats in the documentation: https://pandas.pydata.org/pandas-docs/stable/user_guide/indexing.html#returning-a-view-versus-a-copy\n",
      "  self._setitem_single_block(indexer, value, name)\n"
     ]
    }
   ],
   "source": [
    "for i in range(0, len(df['answer'])):\n",
    "    p= df['answer'].iloc[i]\n",
    "    p= arabic.strip_diacritics(p)\n",
    "\n",
    "    #removing tatweel \"اللـــــغة العربية\" to be easly same \"اللغة العربية\"\n",
    "    p= arabic.strip_tatweel(p)\n",
    "\n",
    "    #Normalize Hamza \"الأهلي\" to be same as \"الاهلي\"\n",
    "    p= arabic.normalize_hamza(p, method= \"tasheel\")\n",
    "\n",
    "    #using built in function to make replacments\n",
    "    #replacing \"ة\" by \" ه\" both are not same letteres but have huge similarity\n",
    "    p= p.replace('\\u0629','\\u0647')\n",
    "\n",
    "    #replace \"ى\" with \"ي\"\n",
    "    p= p.replace('\\u0649', '\\u064A')\n",
    "\n",
    "    p= p.replace('\\n',\"\")\n",
    "\n",
    "\n",
    "    \"\"\"removin \"و\" first of word because it may be like and, whatever if it's from main word will not \n",
    "    affect the similarty too much\n",
    "    \"\"\"\n",
    "    p= re.sub(r'\\b\\u0648','',p)\n",
    "\n",
    "    \"\"\"\n",
    "    make a replacment for \"ال\" in start of the word because it doesnt effect at all \"الحلي\" is same as \"حلي\"\n",
    "     using RE \"ا\" Alef unicode equal \"0627\" \"ل\" Laam unicode equale \"FEDF\"\n",
    "    but not removing \"ال\" in word \"الله\"\n",
    "    also if \"ال \" followed by one letterr will not remove it\"\"\"\n",
    "\n",
    "    p= re.sub(r'\\b\\u0627\\u0644(?![\\u0644\\u0647]|[\\W])',' ',p)\n",
    "\n",
    "    #Hamza is heavy letter in arabic so it easily will be ignored at end of words.\n",
    "    p= re.sub(r'\\u0621\\b','',p)\n",
    "\n",
    "    #remove symbols and special chars\n",
    "    p=re.sub(r'[^\\w]', ' ', p)\n",
    "\n",
    "    \"\"\"\n",
    "                \"أبو حنيفة == أبي حنيفة == أبا حنيفة== أبوحنيفة == اباحنيفة\"\n",
    "                concept will be used in this cases that \"Alef\" and \"Waw\" isolated letters\n",
    "                so the goal is to drive similarity in last step. if the previos not equal it will drived to\n",
    "                isolate the pattern \"ابا، أبو، أبي\"  \n",
    "                \"\"\"\n",
    "\n",
    "    p = re.sub(r'\\b اب(ي |و|و |ا |ا)',' اب ',p)\n",
    "\n",
    "    p= re.sub(r'\\b\\u0627u\\0628(\\u0627|\\u0627\\u0020|\\u0648|\\u0648\\u0020|\\u0649)','\\u0020\\u0627u\\0628\\u0020',p)\n",
    "\n",
    "    p= p.replace(' ', '')\n",
    "    df['answer'].iloc[i]=p\n",
    "    print(p)"
   ]
  },
  {
   "cell_type": "code",
   "execution_count": 93,
   "metadata": {},
   "outputs": [
    {
     "name": "stdout",
     "output_type": "stream",
     "text": [
      "ملكصالح\n",
      "محمدصالح\n",
      "علومبيانات\n",
      "علومطبيعه\n",
      "فيزيا\n",
      "كيميا\n",
      "كيميافيزياييه\n",
      "كيمياحيويه\n",
      "لانهاييه\n",
      "نهاييه\n",
      "نهاييه\n",
      "لانهاييه\n",
      "امكلثوم\n",
      "امكلثوم\n",
      "حياهاللندنيه\n",
      "لبنيعبدالعزيز\n",
      "منيرهضو\n",
      "منيرهضو\n",
      "كيميا\n",
      "امامشافعي\n",
      "امامابحنيفه\n",
      "امامابحنيفه\n",
      "عمروبنعاص\n",
      "عمربنخطاب\n",
      "حياه\n",
      "كريمعبدالمعز\n",
      "اللغهعربيه\n",
      "اللغهعربيه\n",
      "اللغهعربيه\n",
      "اللغهعربيه\n"
     ]
    }
   ],
   "source": [
    " for i in range(0, len(df['input'])):\n",
    "    p= df['input'].iloc[i]\n",
    "    p= arabic.strip_diacritics(p)\n",
    "\n",
    "    #removing tatweel \"اللـــــغة العربية\" to be easly same \"اللغة العربية\"\n",
    "    p= arabic.strip_tatweel(p)\n",
    "\n",
    "    #Normalize Hamza \"الأهلي\" to be same as \"الاهلي\"\n",
    "    p= arabic.normalize_hamza(p, method= \"tasheel\")\n",
    "\n",
    "    #using built in function to make replacments\n",
    "    #replacing \"ة\" by \" ه\" both are not same letteres but have huge similarity\n",
    "    p= p.replace('\\u0629','\\u0647')\n",
    "\n",
    "    #replace \"ى\" with \"ي\"\n",
    "    p= p.replace('\\u0649', '\\u064A')\n",
    "\n",
    "    p= p.replace('\\n',\"\")\n",
    "\n",
    "\n",
    "    \"\"\"removin \"و\" first of word because it may be like and, whatever if it's from main word will not \n",
    "    affect the similarty too much\n",
    "    \"\"\"\n",
    "    p= re.sub(r'\\b\\u0648','',p)\n",
    "\n",
    "    \"\"\"\n",
    "    make a replacment for \"ال\" in start of the word because it doesnt effect at all \"الحلي\" is same as \"حلي\"\n",
    "     using RE \"ا\" Alef unicode equal \"0627\" \"ل\" Laam unicode equale \"FEDF\"\n",
    "    but not removing \"ال\" in word \"الله\"\n",
    "    also if \"ال \" followed by one letterr will not remove it\"\"\"\n",
    "\n",
    "    p= re.sub(r'\\b\\u0627\\u0644(?![\\u0644\\u0647]|[\\W])',' ',p)\n",
    "\n",
    "    #Hamza is heavy letter in arabic so it easily will be ignored at end of words.\n",
    "    p= re.sub(r'\\u0621\\b','',p)\n",
    "\n",
    "    #remove symbols and special chars\n",
    "    p=re.sub(r'[^\\w]', ' ', p)\n",
    "\n",
    "    \"\"\"\n",
    "                \"أبو حنيفة == أبي حنيفة == أبا حنيفة== أبوحنيفة == اباحنيفة\"\n",
    "                concept will be used in this cases that \"Alef\" and \"Waw\" isolated letters\n",
    "                so the goal is to drive similarity in last step. if the previos not equal it will drived to\n",
    "                isolate the pattern \"ابا، أبو، أبي\"  \n",
    "                \"\"\"\n",
    "\n",
    "    p = re.sub(r'\\b اب(ي |و|و |ا |ا)',' اب ',p)\n",
    "\n",
    "    p= re.sub(r'\\b\\u0627u\\0628(\\u0627|\\u0627\\u0020|\\u0648|\\u0648\\u0020|\\u0649)','\\u0020\\u0627u\\0628\\u0020',p)\n",
    "\n",
    "    p= p.replace(' ', '')\n",
    "    df['input'].iloc[i]=p\n",
    "    print(p)"
   ]
  },
  {
   "cell_type": "code",
   "execution_count": 94,
   "metadata": {},
   "outputs": [],
   "source": [
    "df['compare1'] = np.where(df['answer'] == df['input'], 1, 0)"
   ]
  },
  {
   "cell_type": "code",
   "execution_count": 95,
   "metadata": {},
   "outputs": [
    {
     "data": {
      "text/plain": [
       "1.0"
      ]
     },
     "execution_count": 95,
     "metadata": {},
     "output_type": "execute_result"
    }
   ],
   "source": [
    "accuracy = len(df[df['result'] == df['compare1']]) / len(df)\n",
    "accuracy"
   ]
  },
  {
   "cell_type": "code",
   "execution_count": 96,
   "metadata": {},
   "outputs": [
    {
     "data": {
      "text/html": [
       "<div>\n",
       "<style scoped>\n",
       "    .dataframe tbody tr th:only-of-type {\n",
       "        vertical-align: middle;\n",
       "    }\n",
       "\n",
       "    .dataframe tbody tr th {\n",
       "        vertical-align: top;\n",
       "    }\n",
       "\n",
       "    .dataframe thead th {\n",
       "        text-align: right;\n",
       "    }\n",
       "</style>\n",
       "<table border=\"1\" class=\"dataframe\">\n",
       "  <thead>\n",
       "    <tr style=\"text-align: right;\">\n",
       "      <th></th>\n",
       "      <th>answer</th>\n",
       "      <th>input</th>\n",
       "      <th>result</th>\n",
       "      <th>compare1</th>\n",
       "    </tr>\n",
       "  </thead>\n",
       "  <tbody>\n",
       "  </tbody>\n",
       "</table>\n",
       "</div>"
      ],
      "text/plain": [
       "Empty DataFrame\n",
       "Columns: [answer, input, result, compare1]\n",
       "Index: []"
      ]
     },
     "execution_count": 96,
     "metadata": {},
     "output_type": "execute_result"
    }
   ],
   "source": [
    "df[df['result'] != df['compare1']]"
   ]
  },
  {
   "cell_type": "markdown",
   "metadata": {},
   "source": [
    "<br>\n",
    "<h3> Enhancing comparison In Less Than Sentence <h3> \n",
    "<br>"
   ]
  },
  {
   "cell_type": "markdown",
   "metadata": {},
   "source": [
    "1- Compare directly \n",
    "    A- True end comparison:Classify True.\n",
    "    B- False, Creat smlified Text.\n",
    "        1-search for negation patterens in any of two node.\n",
    "            A- in one not other classify as false\n",
    "            B-If not, calculate the wieght\n",
    "                1- If excedes Classify as True.\n",
    "                2- If not Classify as False.\n",
    "                    \n",
    "                "
   ]
  },
  {
   "cell_type": "code",
   "execution_count": null,
   "metadata": {},
   "outputs": [],
   "source": []
  }
 ],
 "metadata": {
  "kernelspec": {
   "display_name": "Python 3",
   "language": "python",
   "name": "python3"
  },
  "language_info": {
   "codemirror_mode": {
    "name": "ipython",
    "version": 3
   },
   "file_extension": ".py",
   "mimetype": "text/x-python",
   "name": "python",
   "nbconvert_exporter": "python",
   "pygments_lexer": "ipython3",
   "version": "3.8.5"
  }
 },
 "nbformat": 4,
 "nbformat_minor": 4
}
